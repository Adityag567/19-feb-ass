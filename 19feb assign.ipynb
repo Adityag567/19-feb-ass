{
 "cells": [
  {
   "cell_type": "code",
   "execution_count": null,
   "id": "af40447b-d597-416c-aeed-dc54875540c2",
   "metadata": {},
   "outputs": [],
   "source": [
    "Q1. What is Flask Framework? What are the advantages of Flask Framework?"
   ]
  },
  {
   "cell_type": "code",
   "execution_count": null,
   "id": "499489d9-1da4-4fe3-b124-e59e5894b780",
   "metadata": {},
   "outputs": [],
   "source": [
    "Flask is a micro web framework written in Python. It is classified as a microframework because it does not require particular tools\n",
    "or libraries. It has no database abstraction layer, form validation, or any other components where pre-existing third-party \n",
    "libraries provide common functions.\n",
    "\n",
    "\n",
    "adv\n",
    "1.e Flask framework is easy to understand, that is why it is best for beginners. Its simplicity gives you the opportunity to understand it better and learn from it.\n",
    "2.There are only a handful of parts of flask that cannot be changed or altered because of its simplicity and minimalism. \n",
    "3.Using Flask for web development allows for unit testing through its integrated support, built-in development server, fast debugger, and restful request dispatching"
   ]
  },
  {
   "cell_type": "code",
   "execution_count": null,
   "id": "17dcabdc-2df5-42e3-bd74-fcf0b334e7b3",
   "metadata": {},
   "outputs": [],
   "source": [
    "Q2. Create a simple Flask application to display ‘Hello World!!’. Attach the screenshot of the output in\n",
    "Jupyter Notebook."
   ]
  },
  {
   "cell_type": "markdown",
   "id": "31932442-ff13-412d-9777-c8c017ae60e7",
   "metadata": {},
   "source": [
    "<img src = \"ss.png\"/>\n",
    "\n"
   ]
  },
  {
   "cell_type": "code",
   "execution_count": null,
   "id": "4303529e-0fd3-4d57-8e31-3d59e1837f25",
   "metadata": {},
   "outputs": [],
   "source": [
    "Q3. What is App routing in Flask? Why do we use app routes?"
   ]
  },
  {
   "cell_type": "code",
   "execution_count": null,
   "id": "148e27cb-309e-423e-9f54-a69c45ab09b5",
   "metadata": {},
   "outputs": [],
   "source": [
    "What is App Routing in Flask? App routing is the technique used to map the specific URL with the associated function intended to perform some task. The Latest Web frameworks use the routing technique to help users remember application URLs. List the different methods to bind the URLs to their associated functions"
   ]
  },
  {
   "cell_type": "code",
   "execution_count": null,
   "id": "f688eeeb-6cb6-4f5f-a3e6-8923dccf6510",
   "metadata": {},
   "outputs": [],
   "source": [
    "Q4. Create a “/welcome” route to display the welcome message “Welcome to ABC Corporation\n",
    "” and a “/”\n",
    "route to show the following details:\n",
    "Company Name: ABC Corporation\n",
    "Location: India\n",
    "Contact Detail: 999-999-9999"
   ]
  },
  {
   "cell_type": "markdown",
   "id": "c467760b-fdf7-4a66-a1fe-035c015eb839",
   "metadata": {},
   "source": [
    "<img src = \"ss2.png\"/>"
   ]
  },
  {
   "cell_type": "code",
   "execution_count": null,
   "id": "cc9410c5-d813-455b-99ab-bbf79b708ca4",
   "metadata": {},
   "outputs": [],
   "source": []
  },
  {
   "cell_type": "code",
   "execution_count": null,
   "id": "6f56e257-bf58-4575-95b3-f9281419baec",
   "metadata": {},
   "outputs": [],
   "source": [
    "Q5. What function is used in Flask for URL Building? Write a Python code to demonstrate the working of the\n",
    "url_for() function."
   ]
  },
  {
   "cell_type": "code",
   "execution_count": null,
   "id": "25366624-9649-45d5-a5b0-2aed4bf4c88f",
   "metadata": {},
   "outputs": [],
   "source": [
    "The url_for() function is very useful for dynamically building a URL for a specific function.\n",
    "\n",
    "The url_for() method, is used to prepare a URL, for a function dynamically, such that, changing URLs, in the application, is avoided. It accepts, the name of the view function, as the first argument, and, any number of keywords, to be sent(to the view function), as the second argument\n",
    "\n"
   ]
  }
 ],
 "metadata": {
  "kernelspec": {
   "display_name": "Python 3 (ipykernel)",
   "language": "python",
   "name": "python3"
  },
  "language_info": {
   "codemirror_mode": {
    "name": "ipython",
    "version": 3
   },
   "file_extension": ".py",
   "mimetype": "text/x-python",
   "name": "python",
   "nbconvert_exporter": "python",
   "pygments_lexer": "ipython3",
   "version": "3.10.8"
  }
 },
 "nbformat": 4,
 "nbformat_minor": 5
}
